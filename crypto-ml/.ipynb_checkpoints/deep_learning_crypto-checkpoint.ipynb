{
 "cells": [
  {
   "cell_type": "markdown",
   "metadata": {},
   "source": [
    " # A Deep Learning Approach to Predicting Cryptocurrency Prices\n",
    " ## Rohit Nair\n",
    " \n",
    " **This notebook will:**\n",
    " - Implement a recurrent neural network to predict bitcoin prices\n",
    " - Use matrix algebra concepts to create data\n",
    " \n",
    "Running the following cell will import packages and functions that will be used in future cells."
   ]
  },
  {
   "cell_type": "code",
   "execution_count": 73,
   "metadata": {},
   "outputs": [],
   "source": [
    "from keras.layers.core import Dense, Activation, Dropout\n",
    "from keras.layers.recurrent import LSTM\n",
    "from keras.layers import Bidirectional\n",
    "from keras.models import Sequential\n",
    "from sklearn.metrics import mean_squared_error\n",
    "import time\n",
    "import numpy as np\n",
    "import matplotlib.pyplot as plt\n",
    "import pandas as pd\n",
    "import math"
   ]
  },
  {
   "cell_type": "markdown",
   "metadata": {},
   "source": [
    "# 1 - Data Processing\n",
    "\n",
    "The data is inputed as a .csv file. This method will transform the data from an array of shape (n x m), where n represents the number of days and m represents the number of features relating to bitcoin, to a tensor of shape \n",
    "(n-w x d x m), where d represents the number of days to look at in each sample of data and w represents the window size. This will be accomplished by using a time-series transform to turn the original array into a set of windows data (window_size = 50).\n",
    "\n",
    "The data will then be normalized by looking at each window and dividing each value in the window by the first value of the window and then subtracting one. For example, the normalization technique will change the set of data [4,3,2] into [0, -0.25, -0.5]. These values are obtained by dividing all values in the data by the first value, in this case 4, then 1 is subtracted from each resulting value (i.e. 3 would become (3/4)-1, or -0.25).\n",
    "\n",
    "The unnormalized bases are kept in order to get the original values back for the testing data. This is necessary to compare the model's predictions of prices with the true prices. \n",
    "\n",
    "After normalization, the first 90% of the data is used in training the model, and the last 10% will be used to test the model. These data will be stored in X_train, Y_train, X_test, and Y_test. The training data will be shuffled such that the order of days in each window remains consistent, but the order of the windows will be random. \n",
    "\n",
    "Finally, a list of the prices before each day Y_test is drawn from will be compiled in order to generate statistics about the model's predictions, including precision, recall, and F1 score. Additionally, these prices can be used to identify whether the model predicted an increase or decrease in price.\n",
    "\n",
    "======================================================================================================================\n",
    "\n",
    "The columns of data and their definitions are as follows: \n",
    "- Annual Hash Growth: Growth in the total network computations over the past 365 days\n",
    "- Block Height: The total number of blocks in the blockchain\n",
    "- Block Interval: Average amount of time between blocks\n",
    "- Block Size: The storage size of each block (i.e. megabytes)\n",
    "- BlockChain Size: The storage size of the blockchain (i.e. gigabytes)\n",
    "- Daily Blocks: Number of blocks found each day\n",
    "- Chain Value Density: The value of bitcoin's blockchain, in terms of dollars per megabyte\n",
    "- Daily Transactions: The number of transactions included in the blockchain per day\n",
    "- Difficulty: The minimum proof-of-work threshold required for a bitcoin miner to mine a block\n",
    "- Fee Percentage: Average fee paid as a percentage of transaction volume\n",
    "- Fee Rate: Average fee paid per transaction\n",
    "- Two-Week Hash Growth: Growth in the total network computations over the past 14 days\n",
    "- Hash Rate: The number of block solutions computed per second by all miners\n",
    "- Market Capitalization: The market value of all bitcoin in circulation\n",
    "- Metcalfe's Law - TX: A variant of Metcalfe's Law in which price is divided by n log n number of daily transactions\n",
    "- Metcalfe's Law - UTXO: A variant of Metcalfe's Law in which price is divided by n log n number of unspent transaction outputs\n",
    "- Miner Revenue Value: The amount of dollars earned by the mining network\n",
    "- Miner Revenue: The amount of bitcoin earned by the mining network, in the form of block rewards and transaction fees\n",
    "- Money Supply: The amount of bitcoin in circulation\n",
    "- Output Value: The dollar value of all outputs sent over the network\n",
    "- Output Volume: The amount of Bitcoin sent over the network\n",
    "- Bitcoin Price: The amount of dollars a single bitcoin is worth\n",
    "- Quarterly Hash Growth: Growth in the total network computations in the past 90 days\n",
    "- Total Transactions: The running total number of transactions processed by the Bitcoin network\n",
    "- Transaction Amount: The average amount of bitcoin moved per transaction\n",
    "- Fees Value: The dollar value of mining fees\n",
    "- Transaction Fees: The amount of bitcoin paid to miners in fees\n",
    "- Transaction Size: The average data size of a transaction\n",
    "- Transaction Value: The average dollar value moved in each transaction\n",
    "- Transactions per Block: The number of transactions in each block\n",
    "- Average UTXO Amount: The average amount of bitcoin contained in each unspent transaction output\n",
    "- UTXO Growth: The net number of unspent transaction outputs created\n",
    "- UTXO Set Size: The total number of unspent transaction outputs\n",
    "- Average UTXO Value: The average dollar value of each uspent transaction output\n",
    "- Velocity - Daily: The proportion of the money supply transacted each day\n",
    "- Velocity - Quarterly: The proportion of the money supply transacted each day, computed on a rolling-quarter basis\n",
    "- Velocity of Money: How many times the money supply changes hands in a given year"
   ]
  },
  {
   "cell_type": "code",
   "execution_count": 74,
   "metadata": {
    "collapsed": true
   },
   "outputs": [],
   "source": [
    "def load_data(filename, sequence_length):\n",
    "    \"\"\"\n",
    "    Loads the bitcoin data\n",
    "    \n",
    "    Arguments:\n",
    "    filename -- A string that represents where the .csv file can be located\n",
    "    sequence_length -- An integer of how many days should be looked at in a row\n",
    "    \n",
    "    Returns:\n",
    "    X_train -- A tensor of shape (2400, 49, 35) that will be inputed into the model to train it\n",
    "    Y_train -- A tensor of shape (2400,) that will be inputed into the model to train it\n",
    "    X_test -- A tensor of shape (267, 49, 35) that will be used to test the model's proficiency\n",
    "    Y_test -- A tensor of shape (267,) that will be used to check the model's predictions\n",
    "    Y_daybefore -- A tensor of shape (267,) that represents the price of bitcoin the day before each Y_test value\n",
    "    unnormalized_bases -- A tensor of shape (267,) that will be used to get the true prices from the normalized ones\n",
    "    window_size -- An integer that represents how many days of X values the model can look at at once\n",
    "    \"\"\"\n",
    "    #Read the data file\n",
    "    raw_data = pd.read_csv(filename, dtype = float).values\n",
    "    \n",
    "    #Change all zeros to the number before the zero occurs\n",
    "    for x in range(0, raw_data.shape[0]):\n",
    "        for y in range(0, raw_data.shape[1]):\n",
    "            if(raw_data[x][y] == 0):\n",
    "                raw_data[x][y] = raw_data[x-1][y]\n",
    "    \n",
    "    #Convert the file to a list\n",
    "    data = raw_data.tolist()\n",
    "    \n",
    "    #Convert the data to a 3D array (a x b x c) \n",
    "    #Where a is the number of days, b is the window size, and c is the number of features in the data file\n",
    "    result = []\n",
    "    for index in range(len(data) - sequence_length):\n",
    "        result.append(data[index: index + sequence_length])\n",
    "    \n",
    "    #Normalizing data by going through each window\n",
    "    #Every value in the window is divided by the first value in the window, and then 1 is subtracted\n",
    "    d0 = np.array(result)\n",
    "    dr = np.zeros_like(d0)\n",
    "    dr[:,1:,:] = d0[:,1:,:] / d0[:,0:1,:] - 1\n",
    "    \n",
    "    #Keeping the unnormalized prices for Y_test\n",
    "    #Useful when graphing bitcoin price over time later\n",
    "    start = 2400\n",
    "    end = int(dr.shape[0] + 1)\n",
    "    unnormalized_bases = d0[start:end,0:1,20]\n",
    "    \n",
    "    #Splitting data set into training (First 90% of data points) and testing data (last 10% of data points)\n",
    "    split_line = round(0.9 * dr.shape[0])\n",
    "    training_data = dr[:int(split_line), :]\n",
    "    \n",
    "    #Shuffle the data\n",
    "    np.random.shuffle(training_data)\n",
    "    \n",
    "    #Training Data\n",
    "    X_train = training_data[:, :-1]\n",
    "    Y_train = training_data[:, -1]\n",
    "    Y_train = Y_train[:, 20]\n",
    "    \n",
    "    #Testing data\n",
    "    X_test = dr[int(split_line):, :-1]\n",
    "    Y_test = dr[int(split_line):, 49, :]\n",
    "    Y_test = Y_test[:, 20]\n",
    "\n",
    "    #Get the day before Y_test's price\n",
    "    Y_daybefore = dr[int(split_line):, 48, :]\n",
    "    Y_daybefore = Y_daybefore[:, 20]\n",
    "    \n",
    "    #Get window size and sequence length\n",
    "    sequence_length = sequence_length\n",
    "    window_size = sequence_length - 1 #because the last value is reserved as the y value\n",
    "    \n",
    "    return X_train, Y_train, X_test, Y_test, Y_daybefore, unnormalized_bases, window_size"
   ]
  },
  {
   "cell_type": "markdown",
   "metadata": {},
   "source": [
    "# 2 - Building the Model\n",
    "\n",
    "The model to be used in this project is a three-layer recurrent neural network (RNN) that incorporates 20% dropout at each layer in order to reduce overfitting to the training data. This model will have a total of 515,579 trainable parameters throughout all of its layers. \n",
    "\n",
    "The model uses the AdamOptimizer as its optimization function. The AdamOptimizer is an algorithm for first-order gradient-based optimization of functions, based on adaptive estimates of lower order moments. It is known for being straightforward to implement, being computationally efficient, having little memory requirements, and is well-suited for models that have lots of parameters or training data. More information about the AdamOptimizer can be found in its original paper (Ba and Kingma, 2014), https://arxiv.org/abs/1412.6980.\n",
    "\n",
    "The loss function used in this model is mean squared error. Mean squared error measures the average of the squares of the difference between each true y value and the corresponding predicted y value. This measurement is useful when measuring how close a predicted line is to the true data points. The model will train itself by attempting to minimize the mean squared error. \n",
    "\n",
    "A linear activation function is used in this model to determine the output of each neuron in the model. The linear activation function is simply defined as f(x) = x.\n",
    "\n",
    "The model will use Keras's Sequential model with Bidirectional LSTM layers."
   ]
  },
  {
   "cell_type": "code",
   "execution_count": 75,
   "metadata": {
    "collapsed": true
   },
   "outputs": [],
   "source": [
    "def initialize_model(window_size, dropout_value, activation_function, loss_function, optimizer):\n",
    "    \"\"\"\n",
    "    Initializes and creates the model to be used\n",
    "    \n",
    "    Arguments:\n",
    "    window_size -- An integer that represents how many days of X_values the model can look at at once\n",
    "    dropout_value -- A decimal representing how much dropout should be incorporated at each level, in this case 0.2\n",
    "    activation_function -- A string to define the activation_function, in this case it is linear\n",
    "    loss_function -- A string to define the loss function to be used, in the case it is mean squared error\n",
    "    optimizer -- A string to define the optimizer to be used, in the case it is adam\n",
    "    \n",
    "    Returns:\n",
    "    model -- A 3 layer RNN with 100*dropout_value dropout in each layer that uses activation_function as its activation\n",
    "             function, loss_function as its loss function, and optimizer as its optimizer\n",
    "    \"\"\"\n",
    "    #Create a Sequential model using Keras\n",
    "    model = Sequential()\n",
    "\n",
    "    #First recurrent layer with dropout\n",
    "    model.add(Bidirectional(LSTM(window_size, return_sequences=True), input_shape=(window_size, X_train.shape[-1]),))\n",
    "    model.add(Dropout(dropout_value))\n",
    "\n",
    "    #Second recurrent layer with dropout\n",
    "    model.add(Bidirectional(LSTM((window_size*2), return_sequences=True)))\n",
    "    model.add(Dropout(dropout_value))\n",
    "\n",
    "    #Third recurrent layer\n",
    "    model.add(Bidirectional(LSTM(window_size, return_sequences=False)))\n",
    "\n",
    "    #Output layer (returns the predicted value)\n",
    "    model.add(Dense(units=1))\n",
    "    \n",
    "    #Set activation function\n",
    "    model.add(Activation(activation_function))\n",
    "\n",
    "    #Set loss function and optimizer\n",
    "    model.compile(loss=loss_function, optimizer=optimizer)\n",
    "    \n",
    "    return model"
   ]
  },
  {
   "cell_type": "markdown",
   "metadata": {},
   "source": [
    "# 3 - Training the Model\n",
    "\n",
    "The model will be fitted to the training data (which was X_train and Y_train), with a batch_size of 1024. Additionally, 100 epochs will be performed to give the model time to adjust its weights and biases to fit the training data.\n",
    "\n",
    "5% of the training data will be used as the validation set.  The model will train by minimizing the loss (mean squared error) of its training data. The validation set is extermely useful when attempting to identify signs of overfitting. If the validation loss begins to consistently and rapidly increase, the model has overfitted to the training data, and changes should be made to the model. \n",
    "\n",
    "The time package will be extremely useful here, as it can be used to calculate the number of seconds the model took to fit to the training data. "
   ]
  },
  {
   "cell_type": "code",
   "execution_count": 76,
   "metadata": {
    "collapsed": true,
    "scrolled": true
   },
   "outputs": [],
   "source": [
    "def fit_model(model, X_train, Y_train, batch_num, num_epoch, val_split):\n",
    "    \"\"\"\n",
    "    Fits the model to the training data\n",
    "    \n",
    "    Arguments:\n",
    "    model -- The previously initalized 3 layer Recurrent Neural Network\n",
    "    X_train -- A tensor of shape (2400, 49, 35) that represents the x values of the training data\n",
    "    Y_train -- A tensor of shape (2400,) that represents the y values of the training data\n",
    "    batch_num -- An integer representing the batch size to be used, in this case 1024\n",
    "    num_epoch -- An integer defining the number of epochs to be run, in this case 100\n",
    "    val_split -- A decimal representing the proportion of training data to be used as validation data\n",
    "    \n",
    "    Returns:\n",
    "    model -- The 3 layer Recurrent Neural Network that has been fitted to the training data\n",
    "    training_time -- An integer representing the amount of time (in seconds) that the model was training\n",
    "    \"\"\"\n",
    "    #Record the time the model starts training\n",
    "    start = time.time()\n",
    "\n",
    "    #Train the model on X_train and Y_train\n",
    "    model.fit(X_train, Y_train, batch_size= batch_num, nb_epoch=num_epoch, validation_split= val_split)\n",
    "\n",
    "    #Get the time it took to train the model (in seconds)\n",
    "    training_time = int(math.floor(time.time() - start))\n",
    "    return model, training_time"
   ]
  },
  {
   "cell_type": "markdown",
   "metadata": {},
   "source": [
    "# 4 - Testing the Model\n",
    "\n",
    "The model will be given the x values of the testing data and will make predictions of the normalized prices. This will be stored as y_predict.\n",
    "\n",
    "Then, both the predicted values and the real values (y_predict and Y_test) will be unnormalized and stored in seperate arrays. The values are unnormalized by looping through the predicted and true values. 1 is added to each value, and then the result is multiplied by a corresponding number in the unnormalized_bases array. In other words, the unnormalization processs is the exact reverse of the normalization process\n",
    "\n",
    "Finally, a plot is created of the unnormalized real values and the unnormalized predicted values. The plot represents bitcoin price over time, and the predicted values are represented by a green line, whereas the real values are represented by a red line. The x axis represents time in days and the y axis represents bitcoin price in US dollars."
   ]
  },
  {
   "cell_type": "code",
   "execution_count": 77,
   "metadata": {
    "collapsed": true,
    "scrolled": true
   },
   "outputs": [],
   "source": [
    "def test_model(model, X_test, Y_test, unnormalized_bases):\n",
    "    \"\"\"\n",
    "    Test the model on the testing data\n",
    "    \n",
    "    Arguments:\n",
    "    model -- The previously fitted 3 layer Recurrent Neural Network\n",
    "    X_test -- A tensor of shape (267, 49, 35) that represents the x values of the testing data\n",
    "    Y_test -- A tensor of shape (267,) that represents the y values of the testing data\n",
    "    unnormalized_bases -- A tensor of shape (267,) that can be used to get unnormalized data points\n",
    "    \n",
    "    Returns:\n",
    "    y_predict -- A tensor of shape (267,) that represnts the normalized values that the model predicts based on X_test\n",
    "    real_y_test -- A tensor of shape (267,) that represents the actual prices of bitcoin throughout the testing period\n",
    "    real_y_predict -- A tensor of shape (267,) that represents the model's predicted prices of bitcoin\n",
    "    fig -- A branch of the graph of the real predicted prices of bitcoin versus the real prices of bitcoin\n",
    "    \"\"\"\n",
    "    #Test the model on X_Test\n",
    "    y_predict = model.predict(X_test)\n",
    "\n",
    "    #Create empty 2D arrays to store unnormalized values\n",
    "    real_y_test = np.zeros_like(Y_test)\n",
    "    real_y_predict = np.zeros_like(y_predict)\n",
    "\n",
    "    #Fill the 2D arrays with the real value and the predicted value by reversing the normalization process\n",
    "    for i in range(Y_test.shape[0]):\n",
    "        y = Y_test[i]\n",
    "        predict = y_predict[i]\n",
    "        real_y_test[i] = (y+1)*unnormalized_bases[i]\n",
    "        real_y_predict[i] = (predict+1)*unnormalized_bases[i]\n",
    "\n",
    "    #Plot of the predicted prices versus the real prices\n",
    "    fig = plt.figure(figsize=(10,5))\n",
    "    ax = fig.add_subplot(111)\n",
    "    ax.set_title(\"Bitcoin Price Over Time\")\n",
    "    plt.plot(real_y_predict, color = 'green', label = 'Predicted Price')\n",
    "    plt.plot(real_y_test, color = 'red', label = 'Real Price')\n",
    "    ax.set_ylabel(\"Price (USD)\")\n",
    "    ax.set_xlabel(\"Time (Days)\")\n",
    "    ax.legend()\n",
    "    \n",
    "    return y_predict, real_y_test, real_y_predict, fig"
   ]
  },
  {
   "cell_type": "markdown",
   "metadata": {},
   "source": [
    "# 5 - Evaluating Change in Price\n",
    "\n",
    "This cell will plot the model's predicted change in price each day against the real change in price each day. \n",
    "\n",
    "First, the percent increases of the predicted values and the real values are calculated by subtracting the value from the day before from the predicted/real value then dividing the result by 1+the value from the day before. The predicted change in price is stored in delta_predict, while the real change in price is stored in delta_real.\n",
    "\n",
    "These two tensors are then graphed together to visualize the difference between predicted and real change in price for bitcoin throughout the testing period. The plot will represent the percent change in bitcoin price each day. A green line will represent the predicted percent change, while a red line will represent the true percent change. The x axis is time in days, while the y value is percent change in bitcoin price."
   ]
  },
  {
   "cell_type": "code",
   "execution_count": 78,
   "metadata": {
    "collapsed": true
   },
   "outputs": [],
   "source": [
    "def price_change(Y_daybefore, Y_test, y_predict):\n",
    "    \"\"\"\n",
    "    Calculate the percent change between each value and the day before\n",
    "    \n",
    "    Arguments:\n",
    "    Y_daybefore -- A tensor of shape (267,) that represents the prices of each day before each price in Y_test\n",
    "    Y_test -- A tensor of shape (267,) that represents the normalized y values of the testing data\n",
    "    y_predict -- A tensor of shape (267,) that represents the normalized y values of the model's predictions\n",
    "    \n",
    "    Returns:\n",
    "    Y_daybefore -- A tensor of shape (267, 1) that represents the prices of each day before each price in Y_test\n",
    "    Y_test -- A tensor of shape (267, 1) that represents the normalized y values of the testing data\n",
    "    delta_predict -- A tensor of shape (267, 1) that represents the difference between predicted and day before values\n",
    "    delta_real -- A tensor of shape (267, 1) that represents the difference between real and day before values\n",
    "    fig -- A plot representing percent change in bitcoin price per day,\n",
    "    \"\"\"\n",
    "    #Reshaping Y_daybefore and Y_test\n",
    "    Y_daybefore = np.reshape(Y_daybefore, (-1, 1))\n",
    "    Y_test = np.reshape(Y_test, (-1, 1))\n",
    "\n",
    "    #The difference between each predicted value and the value from the day before\n",
    "    delta_predict = (y_predict - Y_daybefore) / (1+Y_daybefore)\n",
    "\n",
    "    #The difference between each true value and the value from the day before\n",
    "    delta_real = (Y_test - Y_daybefore) / (1+Y_daybefore)\n",
    "\n",
    "    #Plotting the predicted percent change versus the real percent change\n",
    "    fig = plt.figure(figsize=(10, 6))\n",
    "    ax = fig.add_subplot(111)\n",
    "    ax.set_title(\"Percent Change in Bitcoin Price Per Day\")\n",
    "    plt.plot(delta_predict, color='green', label = 'Predicted Percent Change')\n",
    "    plt.plot(delta_real, color='red', label = 'Real Percent Change')\n",
    "    plt.ylabel(\"Percent Change\")\n",
    "    plt.xlabel(\"Time (Days)\")\n",
    "    ax.legend()\n",
    "    plt.show()\n",
    "    \n",
    "    return Y_daybefore, Y_test, delta_predict, delta_real, fig"
   ]
  },
  {
   "cell_type": "markdown",
   "metadata": {},
   "source": [
    "# 6 - Process the Percent Change in Price\n",
    "\n",
    "The percent change in price will be processsed such that an increase in price is represented by a 1, and a decrease/no change is represented by a 0. These binary values will be stored in arrays delta_predict_1_0 and delta_real_1_0. \n",
    "\n",
    "This will be done by looping through the values of the real and predicted percent change arrays. If a value is greater than 0, a 1 is stored in a new array. Otherwise, a 0 is stored in the new array.\n",
    "\n",
    "This process is very useful to understand how well the model did, and can be used to gather statistics about the model's performance."
   ]
  },
  {
   "cell_type": "code",
   "execution_count": 79,
   "metadata": {
    "collapsed": true,
    "scrolled": true
   },
   "outputs": [],
   "source": [
    "def binary_price(delta_predict, delta_real):\n",
    "    \"\"\"\n",
    "    Converts percent change to a binary 1 or 0, where 1 is an increase and 0 is a decrease/no change\n",
    "    \n",
    "    Arguments:\n",
    "    delta_predict -- A tensor of shape (267, 1) that represents the predicted percent change in price\n",
    "    delta_real -- A tensor of shape (267, 1) that represents the real percent change in price\n",
    "    \n",
    "    Returns:\n",
    "    delta_predict_1_0 -- A tensor of shape (267, 1) that represents the binary version of delta_predict\n",
    "    delta_real_1_0 -- A tensor of shape (267, 1) that represents the binary version of delta_real\n",
    "    \"\"\"\n",
    "    #Empty arrays where a 1 represents an increase in price and a 0 represents a decrease in price\n",
    "    delta_predict_1_0 = np.empty(delta_predict.shape)\n",
    "    delta_real_1_0 = np.empty(delta_real.shape)\n",
    "\n",
    "    #If the change in price is greater than zero, store it as a 1\n",
    "    #If the change in price is less than zero, store it as a 0\n",
    "    for i in range(delta_predict.shape[0]):\n",
    "        if delta_predict[i][0] > 0:\n",
    "            delta_predict_1_0[i][0] = 1\n",
    "        else:\n",
    "            delta_predict_1_0[i][0] = 0\n",
    "    for i in range(delta_real.shape[0]):\n",
    "        if delta_real[i][0] > 0:\n",
    "            delta_real_1_0[i][0] = 1\n",
    "        else:\n",
    "            delta_real_1_0[i][0] = 0    \n",
    "\n",
    "    return delta_predict_1_0, delta_real_1_0"
   ]
  },
  {
   "cell_type": "markdown",
   "metadata": {},
   "source": [
    "# 7 - Comparing Predictions and Real Data\n",
    "\n",
    "The binary categories computed in the previous cell is now used to compare predicted and real data. It will be used to find the number of:\n",
    "- True positives\n",
    "- False positives\n",
    "- True negatives\n",
    "- False negatives\n",
    "These can then be used to further calculate statistics of the model's performance. \n",
    "\n",
    "This will be done by looping through both binary arrays at once and getting the corresponding values. If the real value is a 1 and the predicted value is a 1, that index will be counted as a true positive. If the real value is a 1 and the predicted value is a 0, that index will be counted as a false negative. If the real value is a 0 and the predicted value is a 0, that index will be counted as a true negative. If the real value is a 0 and the predicted value is a 1, that index will be counted as a false positive."
   ]
  },
  {
   "cell_type": "code",
   "execution_count": 80,
   "metadata": {
    "collapsed": true
   },
   "outputs": [],
   "source": [
    "def find_positives_negatives(delta_predict_1_0, delta_real_1_0):\n",
    "    \"\"\"\n",
    "    Finding the number of false positives, false negatives, true positives, true negatives\n",
    "    \n",
    "    Arguments: \n",
    "    delta_predict_1_0 -- A tensor of shape (267, 1) that represents the binary version of delta_predict\n",
    "    delta_real_1_0 -- A tensor of shape (267, 1) that represents the binary version of delta_real\n",
    "    \n",
    "    Returns:\n",
    "    true_pos -- An integer that represents the number of true positives achieved by the model\n",
    "    false_pos -- An integer that represents the number of false positives achieved by the model\n",
    "    true_neg -- An integer that represents the number of true negatives achieved by the model\n",
    "    false_neg -- An integer that represents the number of false negatives achieved by the model\n",
    "    \"\"\"\n",
    "    #Finding the number of false positive/negatives and true positives/negatives\n",
    "    true_pos = 0\n",
    "    false_pos = 0\n",
    "    true_neg = 0\n",
    "    false_neg = 0\n",
    "    for i in range(delta_real_1_0.shape[0]):\n",
    "        real = delta_real_1_0[i][0]\n",
    "        predicted = delta_predict_1_0[i][0]\n",
    "        if real == 1:\n",
    "            if predicted == 1:\n",
    "                true_pos += 1\n",
    "            else:\n",
    "                false_neg += 1\n",
    "        elif real == 0:\n",
    "            if predicted == 0:\n",
    "                true_neg += 1\n",
    "            else:\n",
    "                false_pos += 1\n",
    "    return true_pos, false_pos, true_neg, false_neg"
   ]
  },
  {
   "cell_type": "markdown",
   "metadata": {},
   "source": [
    "# 8 - Calculating Statistics\n",
    "\n",
    "Putting everything together and getting statistics about the model. Statistics being calculated include:\n",
    "- Precision: How often the model gets a true positive compared to how often it returns a positive\n",
    "- Recall: How often the model gets a true positive compared to how often it should have gotten a positive\n",
    "- F1 Score: The weighted average of recall and precision\n",
    "- Mean Squared Error: The average of the squares of the differences between predicted and real values"
   ]
  },
  {
   "cell_type": "code",
   "execution_count": 81,
   "metadata": {
    "collapsed": true
   },
   "outputs": [],
   "source": [
    "def calculate_statistics(true_pos, false_pos, true_neg, false_neg, y_predict, Y_test):\n",
    "    \"\"\"\n",
    "    Calculate various statistics to assess performance\n",
    "    \n",
    "    Arguments:\n",
    "    true_pos -- An integer that represents the number of true positives achieved by the model\n",
    "    false_pos -- An integer that represents the number of false positives achieved by the model\n",
    "    true_neg -- An integer that represents the number of true negatives achieved by the model\n",
    "    false_neg -- An integer that represents the number of false negatives achieved by the model\n",
    "    Y_test -- A tensor of shape (267, 1) that represents the normalized y values of the testing data\n",
    "    y_predict -- A tensor of shape (267, 1) that represents the normalized y values of the model's predictions\n",
    "    \n",
    "    Returns:\n",
    "    precision -- How often the model gets a true positive compared to how often it returns a positive\n",
    "    recall -- How often the model gets a true positive compared to how often is hould have gotten a positive\n",
    "    F1 -- The weighted average of recall and precision\n",
    "    Mean Squared Error -- The average of the squares of the differences between predicted and real values\n",
    "    \"\"\"\n",
    "    precision = float(true_pos) / (true_pos + false_pos)\n",
    "    recall = float(true_pos) / (true_pos + false_neg)\n",
    "    F1 = float(2 * precision * recall) / (precision + recall)\n",
    "    #Get Mean Squared Error\n",
    "    MSE = mean_squared_error(y_predict.flatten(), Y_test.flatten())\n",
    "\n",
    "    return precision, recall, F1, MSE"
   ]
  },
  {
   "cell_type": "markdown",
   "metadata": {},
   "source": [
    "# 9 - Putting It All Together\n",
    "\n",
    "Applying all the methods defined above and analyzing results."
   ]
  },
  {
   "cell_type": "markdown",
   "metadata": {},
   "source": [
    "## Loading the Data"
   ]
  },
  {
   "cell_type": "code",
   "execution_count": 82,
   "metadata": {},
   "outputs": [
    {
     "name": "stdout",
     "output_type": "stream",
     "text": [
      "(2400, 49, 35)\n",
      "(2400,)\n",
      "(267, 49, 35)\n",
      "(267,)\n",
      "(267,)\n",
      "(267, 1)\n",
      "49\n"
     ]
    }
   ],
   "source": [
    "X_train, Y_train, X_test, Y_test, Y_daybefore, unnormalized_bases, window_size = load_data(\"Bitcoin Data.csv\", 50)\n",
    "print (X_train.shape)\n",
    "print (Y_train.shape)\n",
    "print (X_test.shape)\n",
    "print (Y_test.shape)\n",
    "print (Y_daybefore.shape)\n",
    "print (unnormalized_bases.shape)\n",
    "print (window_size)"
   ]
  },
  {
   "cell_type": "markdown",
   "metadata": {},
   "source": [
    "## Initializing the Model"
   ]
  },
  {
   "cell_type": "code",
   "execution_count": 83,
   "metadata": {},
   "outputs": [
    {
     "name": "stdout",
     "output_type": "stream",
     "text": [
      "_________________________________________________________________\n",
      "Layer (type)                 Output Shape              Param #   \n",
      "=================================================================\n",
      "bidirectional_13 (Bidirectio (None, 49, 98)            33320     \n",
      "_________________________________________________________________\n",
      "dropout_9 (Dropout)          (None, 49, 98)            0         \n",
      "_________________________________________________________________\n",
      "bidirectional_14 (Bidirectio (None, 49, 196)           154448    \n",
      "_________________________________________________________________\n",
      "dropout_10 (Dropout)         (None, 49, 196)           0         \n",
      "_________________________________________________________________\n",
      "bidirectional_15 (Bidirectio (None, 98)                96432     \n",
      "_________________________________________________________________\n",
      "dense_5 (Dense)              (None, 1)                 99        \n",
      "_________________________________________________________________\n",
      "activation_5 (Activation)    (None, 1)                 0         \n",
      "=================================================================\n",
      "Total params: 284,299\n",
      "Trainable params: 284,299\n",
      "Non-trainable params: 0\n",
      "_________________________________________________________________\n",
      "None\n"
     ]
    }
   ],
   "source": [
    "model = initialize_model(window_size, 0.2, 'linear', 'mse', 'adam')\n",
    "print (model.summary())"
   ]
  },
  {
   "cell_type": "markdown",
   "metadata": {},
   "source": [
    "## Training the Model"
   ]
  },
  {
   "cell_type": "code",
   "execution_count": 84,
   "metadata": {
    "scrolled": true
   },
   "outputs": [
    {
     "name": "stderr",
     "output_type": "stream",
     "text": [
      "/anaconda/lib/python3.6/site-packages/keras/models.py:844: UserWarning: The `nb_epoch` argument in `fit` has been renamed `epochs`.\n",
      "  warnings.warn('The `nb_epoch` argument in `fit` '\n"
     ]
    },
    {
     "name": "stdout",
     "output_type": "stream",
     "text": [
      "Train on 2280 samples, validate on 120 samples\n",
      "Epoch 1/100\n",
      "2280/2280 [==============================] - 14s - loss: 2.8876 - val_loss: 1.6747\n",
      "Epoch 2/100\n",
      "2280/2280 [==============================] - 9s - loss: 2.1295 - val_loss: 1.4978\n",
      "Epoch 3/100\n",
      "2280/2280 [==============================] - 9s - loss: 1.7727 - val_loss: 1.1258\n",
      "Epoch 4/100\n",
      "2280/2280 [==============================] - 9s - loss: 1.3746 - val_loss: 0.8587\n",
      "Epoch 5/100\n",
      "2280/2280 [==============================] - 9s - loss: 1.1872 - val_loss: 0.7402\n",
      "Epoch 6/100\n",
      "2280/2280 [==============================] - 9s - loss: 0.9781 - val_loss: 0.5983\n",
      "Epoch 7/100\n",
      "2280/2280 [==============================] - 9s - loss: 0.7880 - val_loss: 0.5462\n",
      "Epoch 8/100\n",
      "2280/2280 [==============================] - 9s - loss: 0.6390 - val_loss: 0.3759\n",
      "Epoch 9/100\n",
      "2280/2280 [==============================] - 9s - loss: 0.5165 - val_loss: 0.4169\n",
      "Epoch 10/100\n",
      "2280/2280 [==============================] - 9s - loss: 0.4384 - val_loss: 0.3244\n",
      "Epoch 11/100\n",
      "2280/2280 [==============================] - 9s - loss: 0.3391 - val_loss: 0.2919\n",
      "Epoch 12/100\n",
      "2280/2280 [==============================] - 9s - loss: 0.3230 - val_loss: 0.4605\n",
      "Epoch 13/100\n",
      "2280/2280 [==============================] - 9s - loss: 0.2930 - val_loss: 0.4098\n",
      "Epoch 14/100\n",
      "2280/2280 [==============================] - 9s - loss: 0.2531 - val_loss: 0.2680\n",
      "Epoch 15/100\n",
      "2280/2280 [==============================] - 9s - loss: 0.2297 - val_loss: 0.3040\n",
      "Epoch 16/100\n",
      "2280/2280 [==============================] - 9s - loss: 0.2078 - val_loss: 0.3055\n",
      "Epoch 17/100\n",
      "2280/2280 [==============================] - 9s - loss: 0.1796 - val_loss: 0.2929\n",
      "Epoch 18/100\n",
      "2280/2280 [==============================] - 9s - loss: 0.1705 - val_loss: 0.3154\n",
      "Epoch 19/100\n",
      "2280/2280 [==============================] - 9s - loss: 0.1574 - val_loss: 0.2878\n",
      "Epoch 20/100\n",
      "2280/2280 [==============================] - 9s - loss: 0.1511 - val_loss: 0.3054\n",
      "Epoch 21/100\n",
      "2280/2280 [==============================] - 9s - loss: 0.1299 - val_loss: 0.4361\n",
      "Epoch 22/100\n",
      "2280/2280 [==============================] - 9s - loss: 0.1314 - val_loss: 0.3808\n",
      "Epoch 23/100\n",
      "2280/2280 [==============================] - 9s - loss: 0.1196 - val_loss: 0.3317\n",
      "Epoch 24/100\n",
      "2280/2280 [==============================] - 9s - loss: 0.1185 - val_loss: 0.3207\n",
      "Epoch 25/100\n",
      "2280/2280 [==============================] - 9s - loss: 0.1190 - val_loss: 0.2432\n",
      "Epoch 26/100\n",
      "2280/2280 [==============================] - 9s - loss: 0.1080 - val_loss: 0.2141\n",
      "Epoch 27/100\n",
      "2280/2280 [==============================] - 9s - loss: 0.1074 - val_loss: 0.2691\n",
      "Epoch 28/100\n",
      "2280/2280 [==============================] - 9s - loss: 0.1021 - val_loss: 0.2903\n",
      "Epoch 29/100\n",
      "2280/2280 [==============================] - 9s - loss: 0.1025 - val_loss: 0.2324\n",
      "Epoch 30/100\n",
      "2280/2280 [==============================] - 9s - loss: 0.1232 - val_loss: 0.2039\n",
      "Epoch 31/100\n",
      "2280/2280 [==============================] - 9s - loss: 0.1179 - val_loss: 0.2162\n",
      "Epoch 32/100\n",
      "2280/2280 [==============================] - 9s - loss: 0.1030 - val_loss: 0.3502\n",
      "Epoch 33/100\n",
      "2280/2280 [==============================] - 9s - loss: 0.0925 - val_loss: 0.4217\n",
      "Epoch 34/100\n",
      "2280/2280 [==============================] - 9s - loss: 0.0926 - val_loss: 0.3228\n",
      "Epoch 35/100\n",
      "2280/2280 [==============================] - 9s - loss: 0.0913 - val_loss: 0.2920\n",
      "Epoch 36/100\n",
      "2280/2280 [==============================] - 9s - loss: 0.0815 - val_loss: 0.2598\n",
      "Epoch 37/100\n",
      "2280/2280 [==============================] - 9s - loss: 0.0800 - val_loss: 0.2567\n",
      "Epoch 38/100\n",
      "2280/2280 [==============================] - 9s - loss: 0.0747 - val_loss: 0.2885\n",
      "Epoch 39/100\n",
      "2280/2280 [==============================] - 9s - loss: 0.0762 - val_loss: 0.2607\n",
      "Epoch 40/100\n",
      "2280/2280 [==============================] - 9s - loss: 0.0781 - val_loss: 0.2430\n",
      "Epoch 41/100\n",
      "2280/2280 [==============================] - 9s - loss: 0.0733 - val_loss: 0.2545\n",
      "Epoch 42/100\n",
      "2280/2280 [==============================] - 9s - loss: 0.0693 - val_loss: 0.2065\n",
      "Epoch 43/100\n",
      "2280/2280 [==============================] - 9s - loss: 0.0704 - val_loss: 0.2402\n",
      "Epoch 44/100\n",
      "2280/2280 [==============================] - 9s - loss: 0.0721 - val_loss: 0.2365\n",
      "Epoch 45/100\n",
      "2280/2280 [==============================] - 9s - loss: 0.0699 - val_loss: 0.2137\n",
      "Epoch 46/100\n",
      "2280/2280 [==============================] - 9s - loss: 0.0625 - val_loss: 0.2843\n",
      "Epoch 47/100\n",
      "2280/2280 [==============================] - 9s - loss: 0.0645 - val_loss: 0.2268\n",
      "Epoch 48/100\n",
      "2280/2280 [==============================] - 9s - loss: 0.0602 - val_loss: 0.2299\n",
      "Epoch 49/100\n",
      "2280/2280 [==============================] - 9s - loss: 0.0598 - val_loss: 0.2632\n",
      "Epoch 50/100\n",
      "2280/2280 [==============================] - 9s - loss: 0.0590 - val_loss: 0.2412\n",
      "Epoch 51/100\n",
      "2280/2280 [==============================] - 9s - loss: 0.0578 - val_loss: 0.2382\n",
      "Epoch 52/100\n",
      "2280/2280 [==============================] - 9s - loss: 0.0537 - val_loss: 0.2420\n",
      "Epoch 53/100\n",
      "2280/2280 [==============================] - 9s - loss: 0.0519 - val_loss: 0.1893\n",
      "Epoch 54/100\n",
      "2280/2280 [==============================] - 9s - loss: 0.0525 - val_loss: 0.1972\n",
      "Epoch 55/100\n",
      "2280/2280 [==============================] - 9s - loss: 0.0510 - val_loss: 0.2369\n",
      "Epoch 56/100\n",
      "2280/2280 [==============================] - 9s - loss: 0.0472 - val_loss: 0.2101\n",
      "Epoch 57/100\n",
      "2280/2280 [==============================] - 9s - loss: 0.0472 - val_loss: 0.2459\n",
      "Epoch 58/100\n",
      "2280/2280 [==============================] - 9s - loss: 0.0473 - val_loss: 0.2334\n",
      "Epoch 59/100\n",
      "2280/2280 [==============================] - 9s - loss: 0.0480 - val_loss: 0.2217\n",
      "Epoch 60/100\n",
      "2280/2280 [==============================] - 9s - loss: 0.0451 - val_loss: 0.2502\n",
      "Epoch 61/100\n",
      "2280/2280 [==============================] - 9s - loss: 0.0455 - val_loss: 0.2317\n",
      "Epoch 62/100\n",
      "2280/2280 [==============================] - 9s - loss: 0.0434 - val_loss: 0.2615\n",
      "Epoch 63/100\n",
      "2280/2280 [==============================] - 9s - loss: 0.0418 - val_loss: 0.2811\n",
      "Epoch 64/100\n",
      "2280/2280 [==============================] - 9s - loss: 0.0419 - val_loss: 0.2176\n",
      "Epoch 65/100\n",
      "2280/2280 [==============================] - 9s - loss: 0.0399 - val_loss: 0.2289\n",
      "Epoch 66/100\n",
      "2280/2280 [==============================] - 9s - loss: 0.0412 - val_loss: 0.2496\n",
      "Epoch 67/100\n",
      "2280/2280 [==============================] - 9s - loss: 0.0424 - val_loss: 0.2016\n",
      "Epoch 68/100\n",
      "2280/2280 [==============================] - 9s - loss: 0.0422 - val_loss: 0.2089\n",
      "Epoch 69/100\n",
      "2280/2280 [==============================] - 9s - loss: 0.0392 - val_loss: 0.2016\n",
      "Epoch 70/100\n",
      "2280/2280 [==============================] - 9s - loss: 0.0378 - val_loss: 0.1823\n",
      "Epoch 71/100\n",
      "2280/2280 [==============================] - 9s - loss: 0.0337 - val_loss: 0.2435\n",
      "Epoch 72/100\n",
      "2280/2280 [==============================] - 9s - loss: 0.0376 - val_loss: 0.2150\n",
      "Epoch 73/100\n",
      "2280/2280 [==============================] - 9s - loss: 0.0354 - val_loss: 0.2219\n",
      "Epoch 74/100\n",
      "2280/2280 [==============================] - 9s - loss: 0.0330 - val_loss: 0.2328\n",
      "Epoch 75/100\n",
      "2280/2280 [==============================] - 9s - loss: 0.0313 - val_loss: 0.1688\n",
      "Epoch 76/100\n",
      "2280/2280 [==============================] - 9s - loss: 0.0333 - val_loss: 0.2073\n",
      "Epoch 77/100\n",
      "2280/2280 [==============================] - 9s - loss: 0.0314 - val_loss: 0.2185\n",
      "Epoch 78/100\n",
      "2280/2280 [==============================] - 9s - loss: 0.0302 - val_loss: 0.2068\n",
      "Epoch 79/100\n",
      "2280/2280 [==============================] - 9s - loss: 0.0310 - val_loss: 0.1763\n",
      "Epoch 80/100\n",
      "2280/2280 [==============================] - 9s - loss: 0.0311 - val_loss: 0.1960\n",
      "Epoch 81/100\n",
      "2280/2280 [==============================] - 9s - loss: 0.0289 - val_loss: 0.2301\n",
      "Epoch 82/100\n",
      "2280/2280 [==============================] - 9s - loss: 0.0282 - val_loss: 0.2238\n",
      "Epoch 83/100\n",
      "2280/2280 [==============================] - 9s - loss: 0.0267 - val_loss: 0.2233\n",
      "Epoch 84/100\n",
      "2280/2280 [==============================] - 9s - loss: 0.0336 - val_loss: 0.2214\n",
      "Epoch 85/100\n",
      "2280/2280 [==============================] - 9s - loss: 0.0305 - val_loss: 0.2236\n",
      "Epoch 86/100\n",
      "2280/2280 [==============================] - 9s - loss: 0.0292 - val_loss: 0.2601\n",
      "Epoch 87/100\n",
      "2280/2280 [==============================] - 9s - loss: 0.0291 - val_loss: 0.2435\n",
      "Epoch 88/100\n",
      "2280/2280 [==============================] - 9s - loss: 0.0278 - val_loss: 0.2001\n",
      "Epoch 89/100\n",
      "2280/2280 [==============================] - 9s - loss: 0.0270 - val_loss: 0.2250\n",
      "Epoch 90/100\n",
      "2280/2280 [==============================] - 9s - loss: 0.0257 - val_loss: 0.2294\n",
      "Epoch 91/100\n",
      "2280/2280 [==============================] - 9s - loss: 0.0319 - val_loss: 0.1899\n",
      "Epoch 92/100\n",
      "2280/2280 [==============================] - 9s - loss: 0.0272 - val_loss: 0.2067\n",
      "Epoch 93/100\n",
      "2280/2280 [==============================] - 9s - loss: 0.0259 - val_loss: 0.2422\n",
      "Epoch 94/100\n",
      "2280/2280 [==============================] - 9s - loss: 0.0287 - val_loss: 0.2376\n",
      "Epoch 95/100\n",
      "2280/2280 [==============================] - 9s - loss: 0.0253 - val_loss: 0.1979\n",
      "Epoch 96/100\n",
      "2280/2280 [==============================] - 9s - loss: 0.0237 - val_loss: 0.2253\n",
      "Epoch 97/100\n",
      "2280/2280 [==============================] - 9s - loss: 0.0220 - val_loss: 0.2175\n",
      "Epoch 98/100\n",
      "2280/2280 [==============================] - 9s - loss: 0.0228 - val_loss: 0.2058\n",
      "Epoch 99/100\n",
      "2280/2280 [==============================] - 9s - loss: 0.0226 - val_loss: 0.2219\n",
      "Epoch 100/100\n",
      "2280/2280 [==============================] - 9s - loss: 0.0217 - val_loss: 0.2179\n",
      "Training time 975 seconds\n"
     ]
    }
   ],
   "source": [
    "model, training_time = fit_model(model, X_train, Y_train, 1024, 100, .05)\n",
    "\n",
    "#Print the training time\n",
    "print (\"Training time\", training_time, \"seconds\")"
   ]
  },
  {
   "cell_type": "markdown",
   "metadata": {},
   "source": [
    "## Testing the Model"
   ]
  },
  {
   "cell_type": "code",
   "execution_count": 85,
   "metadata": {},
   "outputs": [
    {
     "data": {
      "image/png": "[encoded data removed]",
      "text/plain": [
       "<matplotlib.figure.Figure at 0x14c2ea710>"
      ]
     },
     "metadata": {},
     "output_type": "display_data"
    }
   ],
   "source": [
    "y_predict, real_y_test, real_y_predict, fig1 = test_model(model, X_test, Y_test, unnormalized_bases)\n",
    "\n",
    "#Show the plot\n",
    "plt.show(fig1)"
   ]
  },
  {
   "cell_type": "markdown",
   "metadata": {},
   "source": [
    "## Plotting Percent Change"
   ]
  },
  {
   "cell_type": "code",
   "execution_count": 86,
   "metadata": {},
   "outputs": [
    {
     "data": {
      "image/png": "[encoded data removed]",
      "text/plain": [
       "<matplotlib.figure.Figure at 0x153891b70>"
      ]
     },
     "metadata": {},
     "output_type": "display_data"
    }
   ],
   "source": [
    "Y_daybefore, Y_test, delta_predict, delta_real, fig2 = price_change(Y_daybefore, Y_test, y_predict)\n",
    "\n",
    "#Show the plot\n",
    "plt.show(fig2)"
   ]
  },
  {
   "cell_type": "markdown",
   "metadata": {},
   "source": [
    "## Getting Binary Version of Percent Change"
   ]
  },
  {
   "cell_type": "code",
   "execution_count": 87,
   "metadata": {},
   "outputs": [
    {
     "name": "stdout",
     "output_type": "stream",
     "text": [
      "(267, 1)\n",
      "(267, 1)\n"
     ]
    }
   ],
   "source": [
    "delta_predict_1_0, delta_real_1_0 = binary_price(delta_predict, delta_real)\n",
    "\n",
    "print (delta_predict_1_0.shape)\n",
    "print (delta_real_1_0.shape)"
   ]
  },
  {
   "cell_type": "markdown",
   "metadata": {},
   "source": [
    "## Comparing Predictions and True Data"
   ]
  },
  {
   "cell_type": "code",
   "execution_count": 88,
   "metadata": {},
   "outputs": [
    {
     "name": "stdout",
     "output_type": "stream",
     "text": [
      "True positives: 96\n",
      "False positives: 60\n",
      "True negatives: 39\n",
      "False negatives: 72\n"
     ]
    }
   ],
   "source": [
    "true_pos, false_pos, true_neg, false_neg = find_positives_negatives(delta_predict_1_0, delta_real_1_0)\n",
    "print (\"True positives:\", true_pos)\n",
    "print (\"False positives:\", false_pos)\n",
    "print (\"True negatives:\", true_neg)\n",
    "print (\"False negatives:\", false_neg)"
   ]
  },
  {
   "cell_type": "markdown",
   "metadata": {},
   "source": [
    "## Getting the Statistics"
   ]
  },
  {
   "cell_type": "code",
   "execution_count": 89,
   "metadata": {
    "scrolled": false
   },
   "outputs": [
    {
     "name": "stdout",
     "output_type": "stream",
     "text": [
      "Precision: 0.6153846153846154\n",
      "Recall: 0.5714285714285714\n",
      "F1 score: 0.5925925925925927\n",
      "Mean Squared Error: 0.046678522146\n"
     ]
    }
   ],
   "source": [
    "precision, recall, F1, MSE = calculate_statistics(true_pos, false_pos, true_neg, false_neg, y_predict, Y_test)\n",
    "print (\"Precision:\", precision)\n",
    "print (\"Recall:\", recall)\n",
    "print (\"F1 score:\", F1)\n",
    "print (\"Mean Squared Error:\", MSE)"
   ]
  }
 ],
 "metadata": {
  "kernelspec": {
   "display_name": "Python 3",
   "language": "python",
   "name": "python3"
  },
  "language_info": {
   "codemirror_mode": {
    "name": "ipython",
    "version": 3
   },
   "file_extension": ".py",
   "mimetype": "text/x-python",
   "name": "python",
   "nbconvert_exporter": "python",
   "pygments_lexer": "ipython3",
   "version": "3.7.6"
  }
 },
 "nbformat": 4,
 "nbformat_minor": 2
}
